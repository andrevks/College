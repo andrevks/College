{
  "nbformat": 4,
  "nbformat_minor": 0,
  "metadata": {
    "colab": {
      "name": "LexicalAnalyser.ipynb",
      "provenance": [],
      "collapsed_sections": []
    },
    "kernelspec": {
      "name": "python3",
      "display_name": "Python 3"
    },
    "language_info": {
      "name": "python"
    }
  },
  "cells": [
    {
      "cell_type": "markdown",
      "metadata": {
        "id": "aAlu1QgwmRBV"
      },
      "source": [
        "# Lexical Analyser\n",
        "\n",
        "Owner: André Geraldo \n",
        "\n",
        "Course: Computer Enginnering\n",
        "\n",
        "Steps:\n",
        "\n",
        "1- Read a file containing a source code with a specific syntax\n",
        "\n",
        "2 - User a buffer to take each line and classify them \n",
        "\n",
        "3 - Regex will recognise if a token is valid and store them\n",
        "\n",
        "4 - store each token in the the following format:\n",
        " [Token, Lexema, Line, Column]"
      ]
    },
    {
      "cell_type": "code",
      "metadata": {
        "id": "qtTM2UoAkwsI",
        "colab": {
          "base_uri": "https://localhost:8080/"
        },
        "outputId": "6f787bda-3f84-4beb-bf28-08a879b6150e"
      },
      "source": [
        "#import of regex\n",
        "from typing import NamedTuple\n",
        "import re\n",
        "\n",
        "class Token(NamedTuple):\n",
        "  type: str\n",
        "  lexema: str\n",
        "  line: int\n",
        "  col: int\n",
        "\n",
        "class LexicalAnalyser:\n",
        "\n",
        "  def __init__(self, source_code):\n",
        "    self.__keywords = {\n",
        "        'BeginFun','EndFun','if','then','else','elif',\n",
        "        'end','funLoopWhile','do','endFunLoop',\n",
        "        'showMeTheCode','grabInput','funny'\n",
        "        }\n",
        "    self.__token_pair = [\n",
        "        ('TK_NUM', r'\\d+'),\n",
        "        ('TK_ATRIB', r'<-'),\n",
        "        ('TK_PERIOD', r'\\.'),\n",
        "        ('TK_ID', r'[A-Za-z]([A-Za-z]|\\d|_)*'),\n",
        "        ('TK_STRING', r'^\\\"([A-Za-z]|\\d|\\.|%|:| )*\\\"$'), #String com aspas\n",
        "        ('TK_OP_AR', r'[-+*\\/]'), #Operações aritmética\n",
        "        ('TK_OP_RE', r'<>|[=<>]'),#Operação relacional  \n",
        "        ('TK_BOOL', r'[|&]'),       \n",
        "        ('TK_OPEN_P', r'\\('),\n",
        "        ('TK_CLOSE_P', r'\\)'),\n",
        "        ('TK_COMMA', r','),\n",
        "        ('TK_NEW_LINE',r'\\n'),\n",
        "        ('TK_SKIP', r'[\\ \\t\\r]+'),\n",
        "        ('MISMATCH', r'.'),                \n",
        "      ]                            \n",
        "    self.__source_code = source_code\n",
        "\n",
        "  def scanner(self):\n",
        "    \n",
        "    token_base = self.__token_pair\n",
        "    buffer = self.__source_code\n",
        "    #Cria grupos com o nome de cada par de token no formato: (?P<nomeTk>regex)\n",
        "    #Concatena cada par com '|' que vai servir como OU em passos seguintes\n",
        "    regex_rules = '|'.join('(?P<%s>%s)' % strPair for strPair in token_base)\n",
        "    line = 1\n",
        "    col_start = 0\n",
        "\n",
        "    #tkType: Pega o nome do padrão reconhecido mais recente. Dependendo \n",
        "    #do padrão existem algumas correções antes de salvar como um token\n",
        "    #lexema: pega o valor extraído quando o padrão é reconhecido\n",
        "    #column: calcula o valor inicial da coluno do token encontrado\n",
        "\n",
        "    for matchedPattern in re.finditer(regex_rules, buffer):\n",
        "      tkType = matchedPattern.lastgroup\n",
        "      lexema = matchedPattern.group()\n",
        "      column = matchedPattern.start()+1 - col_start\n",
        "      #print(\"LASTGROUP: \", kind)\n",
        "      #print(\"\\nVALUE: \", mo.group())\n",
        "      #print(\"\\nCOLLUMN: \", mo.start() - line_start)\n",
        "      if tkType == 'TK_NUM':\n",
        "        lexema = int(lexema)\n",
        "      elif lexema in self.__keywords :\n",
        "        tkType = lexema\n",
        "      elif tkType == 'TK_NEW_LINE':\n",
        "        col_start = matchedPattern.end()\n",
        "        line += 1\n",
        "        continue\n",
        "      elif tkType == 'TK_SKIP':\n",
        "        continue\n",
        "      elif tkType == 'MISMATCH':\n",
        "        raise RuntimeError(f'{tkType!r} valor inesperado na linha {line}')\n",
        "      yield Token(tkType,lexema,line, column)\n",
        "    \n",
        "  def tokenize(self, tkType, lexema, line, column):\n",
        "    #Retorna uma função geradora a quem chamou. A execução começa\n",
        "    #apenas quando o gerador é iterado\n",
        "    #Vantagem: Nenhuma memória é alocada quando o yield é usado\n",
        "    #O parâmetro é uma tupla nomeada (NamedTuple)\n",
        "    yield Token(tkType, lexema, line, column)\n",
        "  \n",
        "  def generateToken():\n",
        "    scanner()\n",
        "\n",
        "\n",
        "\n",
        "def main():\n",
        "  #read the current fun lang file in test.lang\n",
        "  # and store it in a buffer\n",
        "\n",
        "  content = \"\"\n",
        "  with open(\"lang.txt\", \"r\") as file:\n",
        "    content = file.read()\n",
        "\n",
        "  lexico = LexicalAnalyser(content).scanner()\n",
        "\n",
        "  for token in lexico:\n",
        "    print(token)\n",
        "main()"
      ],
      "execution_count": 34,
      "outputs": [
        {
          "output_type": "stream",
          "text": [
            "Token(type='BeginFun', lexema='BeginFun', line=1, col=1)\n",
            "Token(type='if', lexema='if', line=2, col=2)\n",
            "Token(type='TK_ID', lexema='idade', line=2, col=5)\n",
            "Token(type='TK_OP_RE', lexema='<', line=2, col=11)\n",
            "Token(type='TK_NUM', lexema=10, line=2, col=13)\n",
            "Token(type='TK_BOOL', lexema='&', line=2, col=16)\n",
            "Token(type='TK_ID', lexema='anoNasc', line=2, col=18)\n",
            "Token(type='TK_OP_RE', lexema='<>', line=2, col=26)\n",
            "Token(type='TK_NUM', lexema=10, line=2, col=29)\n",
            "Token(type='then', lexema='then', line=2, col=32)\n",
            "Token(type='funLoopWhile', lexema='funLoopWhile', line=3, col=2)\n",
            "Token(type='TK_ID', lexema='valor_ethereum', line=3, col=15)\n",
            "Token(type='TK_OP_RE', lexema='<', line=3, col=30)\n",
            "Token(type='TK_ID', lexema='valor_bitcoin', line=3, col=32)\n",
            "Token(type='do', lexema='do', line=3, col=46)\n",
            "Token(type='showMeTheCode', lexema='showMeTheCode', line=4, col=3)\n",
            "Token(type='TK_ID', lexema='investYourMoney', line=4, col=17)\n",
            "Token(type='TK_PERIOD', lexema='.', line=4, col=32)\n",
            "Token(type='endFunLoop', lexema='endFunLoop', line=5, col=2)\n",
            "Token(type='TK_PERIOD', lexema='.', line=5, col=12)\n",
            "Token(type='end', lexema='end', line=6, col=2)\n",
            "Token(type='TK_PERIOD', lexema='.', line=6, col=5)\n",
            "Token(type='EndFun', lexema='EndFun', line=7, col=1)\n"
          ],
          "name": "stdout"
        }
      ]
    },
    {
      "cell_type": "code",
      "metadata": {
        "colab": {
          "base_uri": "https://localhost:8080/"
        },
        "id": "76qwRG0kGrI8",
        "outputId": "e2ac8319-aabe-4010-a271-d7e2ad90d64f"
      },
      "source": [
        "import re\n",
        "\n",
        "text_to_search = '''\n",
        "BeginFun\n",
        "  funny variable.\n",
        "  variable <- 10 * (124+ 666).\n",
        "EndFun\n",
        "\n",
        "'''\n",
        "\n",
        "regexRules = '''\n",
        "\n",
        "'''\n",
        "pattern = re.compile(r'\\d+')\n",
        "\n",
        "matches = pattern.finditer(text_to_search)\n",
        "\n",
        "for match in matches:\n",
        "  print(match)\n",
        "\n",
        "print(text_to_search[12:17])"
      ],
      "execution_count": null,
      "outputs": [
        {
          "output_type": "stream",
          "text": [
            "<re.Match object; span=(42, 44), match='10'>\n",
            "<re.Match object; span=(48, 51), match='124'>\n",
            "<re.Match object; span=(53, 56), match='666'>\n",
            "funny\n"
          ],
          "name": "stdout"
        }
      ]
    },
    {
      "cell_type": "code",
      "metadata": {
        "colab": {
          "base_uri": "https://localhost:8080/"
        },
        "id": "MBuMC05MvwuF",
        "outputId": "e439cfd8-e17a-4dca-b6c5-7fb0211533fd"
      },
      "source": [
        "list1 = [('NUMBER', r'\\d+'),( 'ASSIGN',  r':=') ]\n",
        "list2 = [('NOME_TOKEN', r'REGEX_EXP'),('NOME_TOKEN2', r'REGEX_EXP2') ]\n",
        "token = \"|\".join('(?P<%s>%s)' % pair for pair in list1)\n",
        "\n",
        "\n",
        "\n",
        "print(token)\n",
        "\n"
      ],
      "execution_count": null,
      "outputs": [
        {
          "output_type": "stream",
          "text": [
            "(?P<NUMBER>\\d+)|(?P<ASSIGN>:=)\n"
          ],
          "name": "stdout"
        }
      ]
    },
    {
      "cell_type": "code",
      "metadata": {
        "colab": {
          "base_uri": "https://localhost:8080/"
        },
        "id": "-Rd6KFjoGALN",
        "outputId": "dd70a00d-3800-47cf-f5da-b45b5ea618e4"
      },
      "source": [
        "from typing import NamedTuple\n",
        "import re\n",
        "\n",
        "\n",
        "class Token(NamedTuple):\n",
        "  type: str\n",
        "  value: str\n",
        "  line: int\n",
        "  column: int\n",
        "\n",
        "\n",
        "def tokenize(code):\n",
        "  keywords = {'BeginFun','EndFun','if','then','else','elif','end','funLoopWhile','do','endFunLoop',\n",
        "              'showMeTheCode','grabInput','funny'}\n",
        "  token_specification = [\n",
        "    ('TK_NUM', r'\\d+'),\n",
        "    ('TK_ATRIB', r'<-'),\n",
        "    ('TK_PERIOD', r'\\.'),\n",
        "    ('TK_ID', r'[A-Za-z]([A-Za-z]|\\d|_)*'),\n",
        "    ('TK_STRING', r'^\\\"([A-Za-z]|\\d|\\.|%|:| )*\\\"$'), #String com aspas\n",
        "    ('TK_OP_AR', r'[-+*\\/]'), #Oerações aritmética\n",
        "    ('TK_OP_RE', r'[=<>]|<>'),#Operação relacional  \n",
        "    ('TK_BOOL', r'[|&]'),       \n",
        "    ('TK_OPEN_P', r'\\('),\n",
        "    ('TK_CLOSE_P', r'\\)'),\n",
        "    ('TK_COMMA', r','),\n",
        "    ('TK_NEW_LINE',r'\\n'),\n",
        "    ('TK_SKIP', r'[\\ \\t\\r]+'),\n",
        "    ('MISMATCH', r'.'),                \n",
        "  ]            \n",
        "\n",
        "  tk_regex_rules = '|'.join('(?P<%s>%s)' % pair for pair in token_specification)\n",
        "\n",
        "  line_num = 1\n",
        "  line_start = 0\n",
        "  for mo in re.finditer(tk_regex_rules,code):\n",
        "    kind = mo.lastgroup\n",
        "    value = mo.group()\n",
        "    column = mo.start() - line_start\n",
        "    #print(\"LASTGROUP: \", kind)\n",
        "     #print(\"\\nVALUE: \", mo.group())\n",
        "    #print(\"\\nCOLLUMN: \", mo.start() - line_start)\n",
        "    if kind == 'TK_NUM':\n",
        "      value = int(value)\n",
        "    elif value in keywords :\n",
        "      kind = value\n",
        "    elif kind == 'TK_NEW_LINE':\n",
        "      line_start = mo.end()\n",
        "      line_num += 1\n",
        "      continue\n",
        "    elif kind == 'TK_SKIP':\n",
        "      continue\n",
        "    elif kind == 'MISMATCH':\n",
        "      raise RuntimeError(f'{value!r} unexpected on line {line_num}')\n",
        "    yield Token(kind,value, line_num, column)\n",
        "\n",
        "    \n",
        "code_source = '''\n",
        "BeginFun\n",
        "\n",
        " if idade < 10 & anoNasc <> 10 then\n",
        "\n",
        "\tfunLoopWhile valor_ethereum < valor_bitcoin do\n",
        "\n",
        "\t\tshowMeTheCode investYourMoney.\n",
        "\n",
        "\tendFunLoop.\n",
        "\n",
        " end.\n",
        " \n",
        "EndFun\n",
        "'''\n",
        "#tokenize(code_source)\n",
        "for token in tokenize(code_source):\n",
        "  print(token)\n"
      ],
      "execution_count": 13,
      "outputs": [
        {
          "output_type": "stream",
          "text": [
            "Token(type='BeginFun', value='BeginFun', line=2, column=0)\n",
            "Token(type='if', value='if', line=4, column=1)\n",
            "Token(type='TK_ID', value='idade', line=4, column=4)\n",
            "Token(type='TK_OP_RE', value='<', line=4, column=10)\n",
            "Token(type='TK_NUM', value=10, line=4, column=12)\n",
            "Token(type='TK_BOOL', value='&', line=4, column=15)\n",
            "Token(type='TK_ID', value='anoNasc', line=4, column=17)\n",
            "Token(type='TK_OP_RE', value='<', line=4, column=25)\n",
            "Token(type='TK_OP_RE', value='>', line=4, column=26)\n",
            "Token(type='TK_NUM', value=10, line=4, column=28)\n",
            "Token(type='then', value='then', line=4, column=31)\n",
            "Token(type='funLoopWhile', value='funLoopWhile', line=6, column=1)\n",
            "Token(type='TK_ID', value='valor_ethereum', line=6, column=14)\n",
            "Token(type='TK_OP_RE', value='<', line=6, column=29)\n",
            "Token(type='TK_ID', value='valor_bitcoin', line=6, column=31)\n",
            "Token(type='do', value='do', line=6, column=45)\n",
            "Token(type='showMeTheCode', value='showMeTheCode', line=8, column=2)\n",
            "Token(type='TK_ID', value='investYourMoney', line=8, column=16)\n",
            "Token(type='TK_PERIOD', value='.', line=8, column=31)\n",
            "Token(type='endFunLoop', value='endFunLoop', line=10, column=1)\n",
            "Token(type='TK_PERIOD', value='.', line=10, column=11)\n",
            "Token(type='end', value='end', line=12, column=1)\n",
            "Token(type='TK_PERIOD', value='.', line=12, column=4)\n",
            "Token(type='EndFun', value='EndFun', line=14, column=0)\n"
          ],
          "name": "stdout"
        }
      ]
    },
    {
      "cell_type": "code",
      "metadata": {
        "colab": {
          "base_uri": "https://localhost:8080/"
        },
        "id": "WhKBfrvpaQ8g",
        "outputId": "bf9f9792-cf89-4493-9ee4-75c8001b3659"
      },
      "source": [
        "def testYield():\n",
        "  yield \"Welcome to Brazil !\"\n",
        "output = testYield()\n",
        "print(list(output))"
      ],
      "execution_count": null,
      "outputs": [
        {
          "output_type": "stream",
          "text": [
            "['Welcome to Brazil !']\n"
          ],
          "name": "stdout"
        }
      ]
    },
    {
      "cell_type": "code",
      "metadata": {
        "colab": {
          "base_uri": "https://localhost:8080/"
        },
        "id": "wuaNZHM_fR3_",
        "outputId": "0e6da26e-2681-4a94-b651-1abc3c8f0e85"
      },
      "source": [
        "def getFibonnaciSeries(num):\n",
        "    c1, c2 = 0, 1\n",
        "    count = 0\n",
        "    while count < num:\n",
        "        yield c1\n",
        "        c3 = c1 + c2\n",
        "        c1 = c2\n",
        "        c2 = c3\n",
        "        count += 1\n",
        "fin = getFibonnaciSeries(7)\n",
        "print(fin)\n",
        "#for i in fin:\n",
        "  #  print(i)"
      ],
      "execution_count": null,
      "outputs": [
        {
          "output_type": "stream",
          "text": [
            "<generator object getFibonnaciSeries at 0x7f66e9d3fa50>\n"
          ],
          "name": "stdout"
        }
      ]
    },
    {
      "cell_type": "code",
      "metadata": {
        "colab": {
          "base_uri": "https://localhost:8080/"
        },
        "id": "tn0-oiHKkHAl",
        "outputId": "ff99887e-cf29-45b5-ce75-7ef72c372c1e"
      },
      "source": [
        "from collections import namedtuple\n",
        "\n",
        "#declaring namedtuple()\n",
        "Student = namedtuple('Student',['name','age','DOB'])\n",
        "\n",
        "#puting values\n",
        "S = Student('Nandini','19','2532423')\n",
        "\n",
        "#Access using index\n",
        "# print(\"The Student age using index is: \", end = \"\")\n",
        "\n",
        "Point2D = namedtuple('Point2D',['x','y'])\n",
        "print(Point2D.)"
      ],
      "execution_count": null,
      "outputs": [
        {
          "output_type": "stream",
          "text": [
            "<property object at 0x7f66e9d12d10>\n"
          ],
          "name": "stdout"
        }
      ]
    },
    {
      "cell_type": "code",
      "metadata": {
        "colab": {
          "base_uri": "https://localhost:8080/"
        },
        "id": "MyuMYgrUrdj6",
        "outputId": "a88f2e5e-31e0-40af-877a-19713421b60d"
      },
      "source": [
        "from typing import NamedTuple\n",
        "\n",
        "class Transaction(NamedTuple):\n",
        "  sender: str\n",
        "  receiver: str\n",
        "  date: str\n",
        "  amount: float\n",
        "\n",
        "def makeTransaction():\n",
        "  yield Transaction(\"me\",\"him\",\"18/09/2020\",300.00)\n",
        "\n",
        "transaction = makeTransaction()\n",
        "print(transaction)\n",
        "\n",
        "print(next(transaction))"
      ],
      "execution_count": null,
      "outputs": [
        {
          "output_type": "stream",
          "text": [
            "<generator object makeTransaction at 0x7f66e9d23dd0>\n",
            "Transaction(sender='me', receiver='him', date='18/09/2020', amount=300.0)\n"
          ],
          "name": "stdout"
        }
      ]
    }
  ]
}